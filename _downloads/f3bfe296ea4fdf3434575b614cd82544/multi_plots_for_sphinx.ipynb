{
  "cells": [
    {
      "cell_type": "code",
      "execution_count": null,
      "metadata": {
        "collapsed": false
      },
      "outputs": [],
      "source": [
        "%matplotlib inline"
      ]
    },
    {
      "cell_type": "markdown",
      "metadata": {},
      "source": [
        "\n# Multi-Plots for Sphinx\n\nUsing plotly in Sphinx is great to deliver interactivity in you documentation.\nHowever, if you're using Sphinx to document your datascience project you'll likely come across the challenge of\nwanting to execute plots within a loop. This snippet shows how to use the MultiPlot class to save multiple plots and\npresent them like subplots in your documentation.\n"
      ]
    },
    {
      "cell_type": "code",
      "execution_count": null,
      "metadata": {
        "collapsed": false
      },
      "outputs": [],
      "source": [
        "# this next line provides the thumbnail, but you must have set save_as_png=True in the MultiPlot object.\n# sphinx_gallery_thumbnail_path = '_static/multi_plots_for_sphinx/figures.tagged.0.png'"
      ]
    },
    {
      "cell_type": "code",
      "execution_count": null,
      "metadata": {
        "collapsed": false
      },
      "outputs": [],
      "source": [
        "from pathlib import Path\n\nimport plotly.graph_objects as go\n\nfrom elphick.sklearn_viz.utils.file import script_path\nfrom elphick.sklearn_viz.utils.plotly import MultiPlot"
      ]
    },
    {
      "cell_type": "markdown",
      "metadata": {},
      "source": [
        "## Create some data and figures\nWe use a loop to generate the figures but instead of displaying them inside the loop,\nwe add them to a list.\n\n"
      ]
    },
    {
      "cell_type": "code",
      "execution_count": null,
      "metadata": {
        "collapsed": false
      },
      "outputs": [],
      "source": [
        "ys = [\n    [2, 3, 1],\n    [1, 2, 2],\n    [4, 2, 3],\n    [3, 2, 5]\n]\n\n# Define the directory where the .rst and .html files will be created\nstatic_dir: Path = script_path().parents[1] / 'docs' / 'source' / '_static'\n\nfigs: list[go.Figure] = []\nfor i, y in enumerate(ys):\n    title = '-'.join([str(i) for i in y])\n    fig = go.Figure(data=[go.Bar(y=y)], layout_title_text=title)\n    figs.append(fig)"
      ]
    },
    {
      "cell_type": "markdown",
      "metadata": {},
      "source": [
        "Save the figures to the _static directory of the docs using MultiPlot\n\n"
      ]
    },
    {
      "cell_type": "code",
      "execution_count": null,
      "metadata": {
        "collapsed": false
      },
      "outputs": [],
      "source": [
        "MultiPlot(docs_static_dir=static_dir).save_plots(figs)"
      ]
    },
    {
      "cell_type": "markdown",
      "metadata": {},
      "source": [
        "This rst directive will include the figures in the documentation. Note how a subdirectory is created in the\nstatic folder using the stem of the script filename::\n\n  .. include:: ../_static/multi_plots_for_sphinx/figures.rst\n\n.. include:: ../_static/multi_plots_for_sphinx/figures.rst\n\n"
      ]
    },
    {
      "cell_type": "markdown",
      "metadata": {},
      "source": [
        "## Multiple Instances\nIf you need to use the MultiPlot class in multiple instances, you can use the tag parameter to ensure\nthe saved files are unique. This is useful when you want to save multiple sets of plots in the same script.\n\n"
      ]
    },
    {
      "cell_type": "code",
      "execution_count": null,
      "metadata": {
        "collapsed": false
      },
      "outputs": [],
      "source": [
        "MultiPlot(docs_static_dir=static_dir, super_title=\"Second Instance using a tag\",\n          col_wrap=2, save_as_png=True, tag=\"tagged\").save_plots(figs)"
      ]
    },
    {
      "cell_type": "markdown",
      "metadata": {},
      "source": [
        "Here is how you include the images when using the tag parameter::\n\n  .. include:: ../_static/multi_plots_for_sphinx/figures.tagged.rst\n\n.. include:: ../_static/multi_plots_for_sphinx/figures.tagged.rst\n\n"
      ]
    }
  ],
  "metadata": {
    "kernelspec": {
      "display_name": "Python 3",
      "language": "python",
      "name": "python3"
    },
    "language_info": {
      "codemirror_mode": {
        "name": "ipython",
        "version": 3
      },
      "file_extension": ".py",
      "mimetype": "text/x-python",
      "name": "python",
      "nbconvert_exporter": "python",
      "pygments_lexer": "ipython3",
      "version": "3.12.3"
    }
  },
  "nbformat": 4,
  "nbformat_minor": 0
}