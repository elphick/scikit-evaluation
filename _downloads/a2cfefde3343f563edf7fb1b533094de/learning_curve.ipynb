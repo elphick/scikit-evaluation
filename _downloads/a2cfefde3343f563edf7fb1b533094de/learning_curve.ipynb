{
  "cells": [
    {
      "cell_type": "code",
      "execution_count": null,
      "metadata": {
        "collapsed": false
      },
      "outputs": [],
      "source": [
        "%matplotlib inline"
      ]
    },
    {
      "cell_type": "markdown",
      "metadata": {},
      "source": [
        "\n# Learning Curve\n\nThis example demonstrates the learning curve, which helps answer two questions:\n\n1) Is my model over-fitted?\n2) Will my model benefit from more data?\n\nCode has been adapted from the\n[sklearn example](https://scikit-learn.org/stable/auto_examples/model_selection/plot_learning_curve.html#sphx-glr-auto-examples-model-selection-plot-learning-curve-py).\n\nThis [machinelearningmastery article](https://machinelearningmastery.com/learning-curves-for-diagnosing-machine-learning-model-performance/) is a great resource for interpretation of learning curves.\n"
      ]
    },
    {
      "cell_type": "code",
      "execution_count": null,
      "metadata": {
        "collapsed": false
      },
      "outputs": [],
      "source": [
        "import logging\n\nimport plotly\nfrom sklearn.datasets import load_digits, load_diabetes\nfrom sklearn.linear_model import RidgeCV\nfrom sklearn.model_selection import ShuffleSplit\nfrom sklearn.naive_bayes import GaussianNB\nfrom sklearn.pipeline import make_pipeline, Pipeline\nfrom sklearn.preprocessing import StandardScaler\n\nfrom elphick.sklearn_viz.model_selection import LearningCurve, plot_learning_curve, metrics\n\nlogging.basicConfig(level=logging.DEBUG,\n                    format='%(asctime)s %(levelname)s %(module)s - %(funcName)s: %(message)s',\n                    datefmt='%Y-%m-%dT%H:%M:%S%z')"
      ]
    },
    {
      "cell_type": "markdown",
      "metadata": {},
      "source": [
        "## Load Data\n\n"
      ]
    },
    {
      "cell_type": "code",
      "execution_count": null,
      "metadata": {
        "collapsed": false
      },
      "outputs": [],
      "source": [
        "X, y = load_digits(return_X_y=True)"
      ]
    },
    {
      "cell_type": "markdown",
      "metadata": {},
      "source": [
        "## Create a Classifier Pipeline\n\nThe pipeline will likely include some pre-processing.\n\n"
      ]
    },
    {
      "cell_type": "code",
      "execution_count": null,
      "metadata": {
        "collapsed": false
      },
      "outputs": [],
      "source": [
        "pipe: Pipeline = make_pipeline(StandardScaler(), GaussianNB()).set_output(transform='pandas')\npipe"
      ]
    },
    {
      "cell_type": "markdown",
      "metadata": {},
      "source": [
        "## Plot using the function\n\n"
      ]
    },
    {
      "cell_type": "code",
      "execution_count": null,
      "metadata": {
        "collapsed": false
      },
      "outputs": [],
      "source": [
        "cv = ShuffleSplit(n_splits=50, test_size=0.2, random_state=0)\nfig = plot_learning_curve(pipe, x=X, y=y, cv=cv)\nfig.update_layout(height=600)\n# noinspection PyTypeChecker\nplotly.io.show(fig)"
      ]
    },
    {
      "cell_type": "markdown",
      "metadata": {},
      "source": [
        "## Plot using the object\n\nPlotting using the object allows access to the underlying data.\n\n.. tip::\n   You can use `n_jobs` to parallelize the computation.\n\n"
      ]
    },
    {
      "cell_type": "code",
      "execution_count": null,
      "metadata": {
        "collapsed": false
      },
      "outputs": [],
      "source": [
        "lc: LearningCurve = LearningCurve(pipe, x=X, y=y, cv=5, n_jobs=5)\nfig = lc.plot(title='Learning Curve').update_layout(height=600)\nfig"
      ]
    },
    {
      "cell_type": "markdown",
      "metadata": {},
      "source": [
        "View the data\n\n"
      ]
    },
    {
      "cell_type": "code",
      "execution_count": null,
      "metadata": {
        "collapsed": false
      },
      "outputs": [],
      "source": [
        "lc.results"
      ]
    },
    {
      "cell_type": "markdown",
      "metadata": {},
      "source": [
        "Results as a dataframe\n\n"
      ]
    },
    {
      "cell_type": "code",
      "execution_count": null,
      "metadata": {
        "collapsed": false
      },
      "outputs": [],
      "source": [
        "df = lc.results.get_results()\ndf.head(10)"
      ]
    },
    {
      "cell_type": "markdown",
      "metadata": {},
      "source": [
        "## Regressor Learning Curve\n\nThis example uses a regression model.\n\n"
      ]
    },
    {
      "cell_type": "code",
      "execution_count": null,
      "metadata": {
        "collapsed": false
      },
      "outputs": [],
      "source": [
        "diabetes = load_diabetes(as_frame=True)\nX, y = diabetes.data, diabetes.target\ny.name = \"progression\"\n\npipe: Pipeline = make_pipeline(StandardScaler(), RidgeCV()).set_output(transform='pandas')\npipe"
      ]
    },
    {
      "cell_type": "code",
      "execution_count": null,
      "metadata": {
        "collapsed": false
      },
      "outputs": [],
      "source": [
        "lc: LearningCurve = LearningCurve(pipe, x=X, y=y, cv=5)\nfig = lc.plot(title='Learning Curve').update_layout(height=600)\nfig"
      ]
    },
    {
      "cell_type": "markdown",
      "metadata": {},
      "source": [
        "## Learning Curve with Metrics\n\nWhile a model is fitted based on the defined scorer, we may be interested in other metrics.\nThe `metrics` parameter allows us to define additional metrics to calculate.\n\n"
      ]
    },
    {
      "cell_type": "code",
      "execution_count": null,
      "metadata": {
        "collapsed": false
      },
      "outputs": [],
      "source": [
        "lc: LearningCurve = LearningCurve(pipe, x=X, y=y,\n                                  metrics={'mse': metrics.mean_squared_error, 'moe': metrics.moe_95},\n                                  cv=5, n_jobs=5)\nfig = lc.plot(title='Learning Curve with Metrics', metrics=['mse', 'moe'], col_wrap=2).update_layout(height=800)\nfig"
      ]
    },
    {
      "cell_type": "markdown",
      "metadata": {},
      "source": [
        "Learning Curve for a metric without the scorer\n\n"
      ]
    },
    {
      "cell_type": "code",
      "execution_count": null,
      "metadata": {
        "collapsed": false
      },
      "outputs": [],
      "source": [
        "fig = lc.plot(title='Learning Curve - Metric, no scorer', metrics=['moe'], plot_scorer=False).update_layout(height=700)\nfig"
      ]
    }
  ],
  "metadata": {
    "kernelspec": {
      "display_name": "Python 3",
      "language": "python",
      "name": "python3"
    },
    "language_info": {
      "codemirror_mode": {
        "name": "ipython",
        "version": 3
      },
      "file_extension": ".py",
      "mimetype": "text/x-python",
      "name": "python",
      "nbconvert_exporter": "python",
      "pygments_lexer": "ipython3",
      "version": "3.12.3"
    }
  },
  "nbformat": 4,
  "nbformat_minor": 0
}