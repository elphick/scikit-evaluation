{
  "cells": [
    {
      "cell_type": "code",
      "execution_count": null,
      "metadata": {
        "collapsed": false
      },
      "outputs": [],
      "source": [
        "%matplotlib inline"
      ]
    },
    {
      "cell_type": "markdown",
      "metadata": {},
      "source": [
        "\n# Multivariate Outlier Detection\n\nMahalanobis Distance can be used to detect outliers in multivariate space.\nThis can be combined with Principal Component Analysis (PCA) to reduce dimensionality prior to outlier detection.\n"
      ]
    },
    {
      "cell_type": "code",
      "execution_count": null,
      "metadata": {
        "collapsed": false
      },
      "outputs": [],
      "source": [
        "import logging\n\nimport pandas as pd\nimport plotly.io as pio\nimport plotly.express as px\nfrom sklearn.datasets import load_diabetes\n\nfrom elphick.sklearn_viz.features import plot_principal_components, plot_scatter_matrix, \\\n    plot_explained_variance, PrincipalComponents, plot_parallel_coordinates\nfrom elphick.sklearn_viz.features.outlier_detection import OutlierDetection\n\nlogging.basicConfig(level=logging.DEBUG,\n                    format='%(asctime)s %(levelname)s %(module)s - %(funcName)s: %(message)s',\n                    datefmt='%Y-%m-%dT%H:%M:%S%z')"
      ]
    },
    {
      "cell_type": "markdown",
      "metadata": {},
      "source": [
        "## Create a dataset\n\nFrom the [sklearn example](https://scikit-learn.org/stable/auto_examples/covariance/plot_mahalanobis_distances.html)\n\n"
      ]
    },
    {
      "cell_type": "code",
      "execution_count": null,
      "metadata": {
        "collapsed": false
      },
      "outputs": [],
      "source": [
        "import numpy as np\n\n# for consistent results\nnp.random.seed(7)\n\nn_samples = 125\nn_outliers = 25\nn_features = 4\n\n# generate Gaussian data of shape (125, 4)\ngen_cov = np.eye(n_features)\ngen_cov[0, 0] = 2.0\nX = np.dot(np.random.randn(n_samples, n_features), gen_cov)\n# add some outliers\noutliers_cov = np.eye(n_features)\noutliers_cov[np.arange(1, n_features), np.arange(1, n_features)] = 7.0\nX[-n_outliers:] = np.dot(np.random.randn(n_outliers, n_features), outliers_cov)\n\nx: pd.DataFrame = pd.DataFrame(X, columns=[f\"F{n}\" for n in range(1, n_features + 1)])\ntest_outlier = pd.Series(x['F1'].index > (n_samples - n_outliers - 1), name='test_outlier').astype('category')\nx"
      ]
    },
    {
      "cell_type": "markdown",
      "metadata": {},
      "source": [
        "## Explore the data and principal components\n\nThe parallel coordinate plot is a good place to start.  The test outlier class variable is used to color the plot.\nNote, the outliers shown are before outlier detection - this is the synthetically generated outlier class.\n\n"
      ]
    },
    {
      "cell_type": "code",
      "execution_count": null,
      "metadata": {
        "collapsed": false
      },
      "outputs": [],
      "source": [
        "fig = plot_parallel_coordinates(data=pd.concat([x, test_outlier], axis=1), color='test_outlier')\nfig"
      ]
    },
    {
      "cell_type": "markdown",
      "metadata": {},
      "source": [
        "Explore the principal components in 2D and then 3D\n\n"
      ]
    },
    {
      "cell_type": "code",
      "execution_count": null,
      "metadata": {
        "collapsed": false
      },
      "outputs": [],
      "source": [
        "fig = plot_explained_variance(x=x)\nfig"
      ]
    },
    {
      "cell_type": "code",
      "execution_count": null,
      "metadata": {
        "collapsed": false
      },
      "outputs": [],
      "source": [
        "fig = plot_principal_components(plot_3d=False, x=x, color=test_outlier)\nfig.update_layout(height=800)\nfig"
      ]
    },
    {
      "cell_type": "code",
      "execution_count": null,
      "metadata": {
        "collapsed": false
      },
      "outputs": [],
      "source": [
        "fig = plot_principal_components(plot_3d=True, x=x, color=test_outlier)\nfig.update_layout(height=800)\nfig"
      ]
    },
    {
      "cell_type": "markdown",
      "metadata": {},
      "source": [
        "## Detect Outliers\n\n"
      ]
    },
    {
      "cell_type": "code",
      "execution_count": null,
      "metadata": {
        "collapsed": false
      },
      "outputs": [],
      "source": [
        "od: OutlierDetection = OutlierDetection(x=x, pca_spec=2)\ndetected_outliers: pd.Series = od.data['outlier']"
      ]
    },
    {
      "cell_type": "markdown",
      "metadata": {},
      "source": [
        "Visualise the detected outliers with the default p_val of 0.001\n\n"
      ]
    },
    {
      "cell_type": "code",
      "execution_count": null,
      "metadata": {
        "collapsed": false
      },
      "outputs": [],
      "source": [
        "fig = plot_principal_components(plot_3d=False, x=x, color=detected_outliers)\nfig.update_layout(height=800)\nfig"
      ]
    },
    {
      "cell_type": "markdown",
      "metadata": {},
      "source": [
        "We can tighten the threshold to align more closely with our expectation.\n\n"
      ]
    },
    {
      "cell_type": "code",
      "execution_count": null,
      "metadata": {
        "collapsed": false
      },
      "outputs": [],
      "source": [
        "detected_outliers: pd.Series = OutlierDetection(x=x, pca_spec=2, p_val=0.25).data['outlier']\nfig = plot_principal_components(plot_3d=False, x=x, color=detected_outliers)\nfig.update_layout(height=800)\n# noinspection PyTypeChecker\npio.show(fig)"
      ]
    },
    {
      "cell_type": "code",
      "execution_count": null,
      "metadata": {
        "collapsed": false
      },
      "outputs": [],
      "source": [
        "fig = od.plot_outlier_matrix()\nfig.update_layout(height=800)\nfig"
      ]
    },
    {
      "cell_type": "markdown",
      "metadata": {},
      "source": [
        "The parallel plot allows us to explore the difference between our defined outliers (test_outliers) and what\nwas detected as an outlier (outlier).\n\n"
      ]
    },
    {
      "cell_type": "code",
      "execution_count": null,
      "metadata": {
        "collapsed": false
      },
      "outputs": [],
      "source": [
        "fig = plot_parallel_coordinates(data=pd.concat([x, test_outlier, detected_outliers.astype('category')], axis=1),\n                                color='outlier')\nfig"
      ]
    },
    {
      "cell_type": "markdown",
      "metadata": {},
      "source": [
        "We can detect in the original feature space with pca_spec = 0\n\n"
      ]
    },
    {
      "cell_type": "code",
      "execution_count": null,
      "metadata": {
        "collapsed": false
      },
      "outputs": [],
      "source": [
        "detected_outliers: pd.Series = OutlierDetection(x=x, pca_spec=0, p_val=0.25).data['outlier']\ndetected_outliers.sum()"
      ]
    }
  ],
  "metadata": {
    "kernelspec": {
      "display_name": "Python 3",
      "language": "python",
      "name": "python3"
    },
    "language_info": {
      "codemirror_mode": {
        "name": "ipython",
        "version": 3
      },
      "file_extension": ".py",
      "mimetype": "text/x-python",
      "name": "python",
      "nbconvert_exporter": "python",
      "pygments_lexer": "ipython3",
      "version": "3.12.3"
    }
  },
  "nbformat": 4,
  "nbformat_minor": 0
}