{
  "cells": [
    {
      "cell_type": "code",
      "execution_count": null,
      "metadata": {
        "collapsed": false
      },
      "outputs": [],
      "source": [
        "%matplotlib inline"
      ]
    },
    {
      "cell_type": "markdown",
      "metadata": {},
      "source": [
        "\n# Compare Multiple N-D datasets\n\nComparing 1D datasets readily achieved by overlaying distributions, boxplots, etc.\nFor multivariate (N-D) datasets, things get a little more difficult.\n\nThis example applies Principal Component Analysis by group variable and colors the loading vectors by group.\n"
      ]
    },
    {
      "cell_type": "code",
      "execution_count": null,
      "metadata": {
        "collapsed": false
      },
      "outputs": [],
      "source": [
        "import logging\n\nimport pandas as pd\nimport plotly.io\n\nfrom elphick.sklearn_viz.features import plot_parallel_coordinates\nfrom elphick.sklearn_viz.features.principal_components import plot_loading_vectors, plot_correlation_circle, \\\n    plot_explained_variance, plot_principal_components\n\nlogging.basicConfig(level=logging.DEBUG,\n                    format='%(asctime)s %(levelname)s %(module)s - %(funcName)s: %(message)s',\n                    datefmt='%Y-%m-%dT%H:%M:%S%z')"
      ]
    },
    {
      "cell_type": "markdown",
      "metadata": {},
      "source": [
        "## Create a dataset\n\n"
      ]
    },
    {
      "cell_type": "code",
      "execution_count": null,
      "metadata": {
        "collapsed": false
      },
      "outputs": [],
      "source": [
        "import numpy as np\n\n# for consistent results\nnp.random.seed(7)\n\nn_samples = 125\nn_outliers = 25\nn_features = 4\n\n# generate Gaussian data of shape (125, 4)\ncov1 = np.array([[9, -7, -2, -2],\n                 [-7, 7, 1.5, 1],\n                 [-2, 1.5, 1, 0.5],\n                 [-2, 1, 0.5, 0.5]])\ncov2 = np.array([[5, -2, -1.5, -3],\n                 [-2, 2, 0.5, 0.5],\n                 [-1.5, 0.5, 1, 1],\n                 [-3, 0.5, 1, 3]])\n\nx1 = np.dot(np.random.randn(n_samples, n_features), cov1)\nx2 = np.dot(np.random.randn(n_samples, n_features), cov2)\n\ndf_x1: pd.DataFrame = pd.DataFrame(x1, columns=[f\"F{n}\" for n in range(1, n_features + 1)])\n# shift the mean on two features\ndf_x1['F4'] = df_x1['F4'] - 2.0\ndf_x1['F2'] = df_x1['F2'] + 1.0\ndf_x2: pd.DataFrame = pd.DataFrame(x2, columns=[f\"F{n}\" for n in range(1, n_features + 1)])\nx = pd.concat([df_x1.assign(group='one'), df_x2.assign(group='two')], axis=0).reset_index(drop=True)\nx['group'] = pd.Categorical(x['group'])\nx"
      ]
    },
    {
      "cell_type": "markdown",
      "metadata": {},
      "source": [
        "## Explore the data\n\nThe parallel coordinate plot is a good place to start.  The differences in mean and variance across some\nfeatures is clear.\n\n"
      ]
    },
    {
      "cell_type": "code",
      "execution_count": null,
      "metadata": {
        "collapsed": false
      },
      "outputs": [],
      "source": [
        "fig = plot_parallel_coordinates(x, color='group')\nfig"
      ]
    },
    {
      "cell_type": "markdown",
      "metadata": {},
      "source": [
        "## Explore the Principal Components\n\nNote that in the next plot, the data is colored by group, but the loading vectors are for the entire dataset.\n\n"
      ]
    },
    {
      "cell_type": "code",
      "execution_count": null,
      "metadata": {
        "collapsed": false
      },
      "outputs": [],
      "source": [
        "fig = plot_principal_components(plot_3d=False, x=x.drop(columns=['group']), color=x['group'])\nfig.update_layout(height=800)\nfig"
      ]
    },
    {
      "cell_type": "markdown",
      "metadata": {},
      "source": [
        "This example below allows the loading vectors to be visualised by each group without the data for clarity.\n\n"
      ]
    },
    {
      "cell_type": "code",
      "execution_count": null,
      "metadata": {
        "collapsed": false
      },
      "outputs": [],
      "source": [
        "fig = plot_loading_vectors(x=x.drop(columns=['group']), color=x['group'])\nfig"
      ]
    },
    {
      "cell_type": "markdown",
      "metadata": {},
      "source": [
        "And finally, by standardising the input data prior to PCA analysis allows the correlation circle to be shown by group.\n\n"
      ]
    },
    {
      "cell_type": "code",
      "execution_count": null,
      "metadata": {
        "collapsed": false
      },
      "outputs": [],
      "source": [
        "fig = plot_correlation_circle(x=x.drop(columns=['group']), color=x['group'])\nfig.update_layout(height=800, width=800)\nplotly.io.show(fig)"
      ]
    }
  ],
  "metadata": {
    "kernelspec": {
      "display_name": "Python 3",
      "language": "python",
      "name": "python3"
    },
    "language_info": {
      "codemirror_mode": {
        "name": "ipython",
        "version": 3
      },
      "file_extension": ".py",
      "mimetype": "text/x-python",
      "name": "python",
      "nbconvert_exporter": "python",
      "pygments_lexer": "ipython3",
      "version": "3.12.3"
    }
  },
  "nbformat": 4,
  "nbformat_minor": 0
}