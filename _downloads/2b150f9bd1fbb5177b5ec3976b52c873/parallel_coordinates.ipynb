{
  "cells": [
    {
      "cell_type": "code",
      "execution_count": null,
      "metadata": {
        "collapsed": false
      },
      "outputs": [],
      "source": [
        "%matplotlib inline"
      ]
    },
    {
      "cell_type": "markdown",
      "metadata": {},
      "source": [
        "\n# Parallel Coordinates\n\nParallel coordinate plots are very useful for Exploratory Data Analysis (EDA).\n\nTypically the target variable will be colored, since it is the variable of most interest, though this is optional.\n\nThe interactive nature of plotly is a real asset for this particular plot. Records/samples can be highlighted by\nclicking and dragging the mouse vertically at a given axis for a variable (feature or target).  Multiple selections\nare possible.  Single clicking a selection will remove it.\n"
      ]
    },
    {
      "cell_type": "code",
      "execution_count": null,
      "metadata": {
        "collapsed": false
      },
      "outputs": [],
      "source": [
        "import pandas as pd\nimport plotly.io as pio\nfrom sklearn.datasets import load_diabetes, load_wine\n\nfrom elphick.sklearn_viz.features import plot_parallel_coordinates"
      ]
    },
    {
      "cell_type": "markdown",
      "metadata": {},
      "source": [
        "## Load Classification Data\n\n"
      ]
    },
    {
      "cell_type": "code",
      "execution_count": null,
      "metadata": {
        "collapsed": false
      },
      "outputs": [],
      "source": [
        "wine = load_wine(as_frame=True)\nX, y = wine.data, wine.target.rename('target')\ndf = pd.concat([X, y], axis=1)\ndf"
      ]
    },
    {
      "cell_type": "markdown",
      "metadata": {},
      "source": [
        "## Plot Classification Data\n\n"
      ]
    },
    {
      "cell_type": "code",
      "execution_count": null,
      "metadata": {
        "collapsed": false
      },
      "outputs": [],
      "source": [
        "fig = plot_parallel_coordinates(df, color=y.name)\n# noinspection PyTypeChecker\npio.show(fig)"
      ]
    },
    {
      "cell_type": "markdown",
      "metadata": {},
      "source": [
        "The target is optional.  If the plot is too dense, then consider sampling as demonstrated.\n\n"
      ]
    },
    {
      "cell_type": "code",
      "execution_count": null,
      "metadata": {
        "collapsed": false
      },
      "outputs": [],
      "source": [
        "fig = plot_parallel_coordinates(df.sample(frac=0.5))\nfig"
      ]
    },
    {
      "cell_type": "markdown",
      "metadata": {},
      "source": [
        "## Load Regression Data\n\n"
      ]
    },
    {
      "cell_type": "code",
      "execution_count": null,
      "metadata": {
        "collapsed": false
      },
      "outputs": [],
      "source": [
        "diabetes = load_diabetes(as_frame=True, scaled=False)\nX, y = diabetes.data, diabetes.target.rename('target')\ndf = pd.concat([X, y], axis=1)\ndf"
      ]
    },
    {
      "cell_type": "markdown",
      "metadata": {},
      "source": [
        "## Plot Regression Data\n\n"
      ]
    },
    {
      "cell_type": "code",
      "execution_count": null,
      "metadata": {
        "collapsed": false
      },
      "outputs": [],
      "source": [
        "fig = plot_parallel_coordinates(df, color=y.name)\nfig"
      ]
    },
    {
      "cell_type": "markdown",
      "metadata": {},
      "source": [
        "Categorical data is supported\n\n"
      ]
    },
    {
      "cell_type": "code",
      "execution_count": null,
      "metadata": {
        "collapsed": false
      },
      "outputs": [],
      "source": [
        "df['sex'] = df['sex'].map({1: 'Male', 2: 'Female'}).astype('category')\nfig = plot_parallel_coordinates(df.sample(frac=0.5), color=y.name)\nfig"
      ]
    }
  ],
  "metadata": {
    "kernelspec": {
      "display_name": "Python 3",
      "language": "python",
      "name": "python3"
    },
    "language_info": {
      "codemirror_mode": {
        "name": "ipython",
        "version": 3
      },
      "file_extension": ".py",
      "mimetype": "text/x-python",
      "name": "python",
      "nbconvert_exporter": "python",
      "pygments_lexer": "ipython3",
      "version": "3.12.3"
    }
  },
  "nbformat": 4,
  "nbformat_minor": 0
}