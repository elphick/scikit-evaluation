{
  "cells": [
    {
      "cell_type": "code",
      "execution_count": null,
      "metadata": {
        "collapsed": false
      },
      "outputs": [],
      "source": [
        "%matplotlib inline"
      ]
    },
    {
      "cell_type": "markdown",
      "metadata": {},
      "source": [
        "\n# Category Feature Analysis\n\nIt is common to model across estimation domains using categorical features.\nThis example demonstrates how to use the ModelSelection class to compare the performance of the\nsource model against models fitted independently on the category values.\n"
      ]
    },
    {
      "cell_type": "code",
      "execution_count": null,
      "metadata": {
        "collapsed": false
      },
      "outputs": [],
      "source": [
        "import logging\nfrom functools import partial\nfrom typing import Dict\n\nimport pandas as pd\nimport plotly\nimport sklearn\nfrom sklearn.compose import ColumnTransformer\nfrom sklearn.datasets import load_diabetes\nfrom sklearn.pipeline import make_pipeline, Pipeline\nfrom sklearn.preprocessing import OneHotEncoder, StandardScaler\n\nfrom elphick.sklearn_viz.model_selection import ModelSelection, metrics\n\nlogging.basicConfig(level=logging.DEBUG,\n                    format='%(asctime)s %(levelname)s %(module)s - %(funcName)s: %(message)s',\n                    datefmt='%Y-%m-%dT%H:%M:%S%z')"
      ]
    },
    {
      "cell_type": "markdown",
      "metadata": {},
      "source": [
        "## Load Regression Data\n\nWe prepare a `group` variable (a pd.Series) in order to test the performance of modelling independently.\n\n"
      ]
    },
    {
      "cell_type": "code",
      "execution_count": null,
      "metadata": {
        "collapsed": false
      },
      "outputs": [],
      "source": [
        "diabetes = load_diabetes(as_frame=True)\nx, y = diabetes.data.copy(), diabetes.target\nx['sex'] = pd.Categorical(x['sex'].apply(lambda x: 'M' if x < 0 else 'F'))  # assumed mock classes.\ny.name = \"progression\"\nxy: pd.DataFrame = pd.concat([x, y], axis=1)\ngroup: pd.Series = x['sex']"
      ]
    },
    {
      "cell_type": "markdown",
      "metadata": {},
      "source": [
        "## Define the pipeline\n\n"
      ]
    },
    {
      "cell_type": "code",
      "execution_count": null,
      "metadata": {
        "collapsed": false
      },
      "outputs": [],
      "source": [
        "numerical_cols = x.select_dtypes(include=[float]).columns.to_list()\ncategorical_cols = x.select_dtypes(include=[object, 'category']).columns.to_list()\n\ncategorical_preprocessor = OneHotEncoder(handle_unknown=\"ignore\", sparse_output=False)\nnumerical_preprocessor = StandardScaler()\npreprocessor = ColumnTransformer(\n    [\n        (\"one-hot-encoder\", categorical_preprocessor, categorical_cols),\n        (\"standard_scaler\", numerical_preprocessor, numerical_cols),\n    ]\n)\n\npp: Pipeline = make_pipeline(preprocessor)\nmodels_to_test: Dict = {'LR': sklearn.linear_model.LinearRegression(),\n                        'LASSO': sklearn.linear_model.LassoCV()}\n\nms: ModelSelection = ModelSelection(estimators=models_to_test, datasets=xy, target='progression', pre_processor=pp,\n                                    k_folds=10, scorer='r2', group=group,\n                                    metrics={'r2_score': metrics.r2_score, 'moe': metrics.moe_95,\n                                             'rmse': metrics.rmse,\n                                             'me': metrics.mean_error},\n                                    random_state=123)"
      ]
    },
    {
      "cell_type": "markdown",
      "metadata": {},
      "source": [
        "Next we'll view the plot, but we will not (yet) leverage the group variable.\n\n"
      ]
    },
    {
      "cell_type": "code",
      "execution_count": null,
      "metadata": {
        "collapsed": false
      },
      "outputs": [],
      "source": [
        "fig = ms.plot(metrics=['moe', 'me'])\nfig.update_layout(height=700)\nfig"
      ]
    },
    {
      "cell_type": "markdown",
      "metadata": {},
      "source": [
        "Now, we will re-plot using group.  This is fast, since the fitting metrics were calculated when the first plot was\ncreated, and do not need to be calculated again.\n\nPlotting by group can (hopefully) provide evidence that metrics are consistent across groups.\n\n"
      ]
    },
    {
      "cell_type": "code",
      "execution_count": null,
      "metadata": {
        "collapsed": false
      },
      "outputs": [],
      "source": [
        "fig = ms.plot(metrics=['moe', 'me'], show_group=True)\nfig.update_layout(height=700)\nfig"
      ]
    },
    {
      "cell_type": "markdown",
      "metadata": {},
      "source": [
        "## Categorical Feature Analysis\n\nThis analysis will test whether better performance can be achieved by modelling the specified categorical class\nseparately, rather than passing it as a feature to the model.\n\n"
      ]
    },
    {
      "cell_type": "code",
      "execution_count": null,
      "metadata": {
        "collapsed": false
      },
      "outputs": [],
      "source": [
        "fig = ms.plot_category_analysis(algorithm='LR')\nfig.update_layout(height=700)\nplotly.io.show(fig)"
      ]
    },
    {
      "cell_type": "markdown",
      "metadata": {},
      "source": [
        "We can view more metrics...\n\n"
      ]
    },
    {
      "cell_type": "code",
      "execution_count": null,
      "metadata": {
        "collapsed": false
      },
      "outputs": [],
      "source": [
        "fig = ms.plot_category_analysis(algorithm='LR', dataset=None,\n                                metrics=['r2_score', 'moe', 'rmse', 'me'],\n                                col_wrap=2)\nfig.update_layout(height=800)\nfig"
      ]
    },
    {
      "cell_type": "markdown",
      "metadata": {},
      "source": [
        ".. admonition:: Info\n\n   We can see from the notch positions of the comparative boxplots, that modelling by group would offer no benefit\n   for either the F or M classes.\n\n"
      ]
    }
  ],
  "metadata": {
    "kernelspec": {
      "display_name": "Python 3",
      "language": "python",
      "name": "python3"
    },
    "language_info": {
      "codemirror_mode": {
        "name": "ipython",
        "version": 3
      },
      "file_extension": ".py",
      "mimetype": "text/x-python",
      "name": "python",
      "nbconvert_exporter": "python",
      "pygments_lexer": "ipython3",
      "version": "3.12.3"
    }
  },
  "nbformat": 4,
  "nbformat_minor": 0
}